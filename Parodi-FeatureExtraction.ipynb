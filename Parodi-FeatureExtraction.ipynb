{
 "cells": [
  {
   "cell_type": "code",
   "execution_count": 1,
   "metadata": {},
   "outputs": [
    {
     "name": "stdout",
     "output_type": "stream",
     "text": [
      "3.8.2 (default, Mar 26 2020, 15:53:00) \n",
      "[GCC 7.3.0]\n"
     ]
    }
   ],
   "source": [
    "%matplotlib inline\n",
    "%reload_ext autoreload\n",
    "%autoreload 2\n",
    "%config InlineBackend.figure_format='retina'\n",
    "import sys; print(sys.version)"
   ]
  },
  {
   "cell_type": "code",
   "execution_count": 2,
   "metadata": {},
   "outputs": [],
   "source": [
    "from import_all import *"
   ]
  },
  {
   "cell_type": "code",
   "execution_count": 3,
   "metadata": {},
   "outputs": [],
   "source": [
    "def hang_path(t_in,t_out,rename_base):\n",
    "    return lambda fn : t_out/rename_base(t_in)/Path(os.path.relpath(str(fn),str(t_in)))"
   ]
  },
  {
   "cell_type": "markdown",
   "metadata": {},
   "source": [
    "# Preprocesamiento de imágenes"
   ]
  },
  {
   "cell_type": "code",
   "execution_count": 5,
   "metadata": {
    "scrolled": true
   },
   "outputs": [],
   "source": [
    "#IN_PATH = Path('./data/cedar')\n",
    "IN_PATH = Path('./data/sigcomp2009')\n",
    "\n",
    "OUT_PATH = Path('./data/parodi_out/preprocessed')\n",
    "\n",
    "rename_base = lambda x : x.name\n",
    "\n",
    "#get_fns = get_image_files\n",
    "get_fns = ds_sigcomp2009.get_authentic_signatures\n",
    "\n",
    "\n",
    "fns = L(get_fns(IN_PATH))\n",
    "nf_func = hang_path(IN_PATH,OUT_PATH,rename_base)\n",
    "def preproc_fmap(fn):\n",
    "    nf = nf_func(fn)\n",
    "    nf.parent.mkdir(parents=True, exist_ok=True)\n",
    "    return otsu_preprocess(ds_sigcomp2009.get_x(fn)).save(nf)\n",
    "preproc_fns = parallel(preproc_fmap,fns)"
   ]
  },
  {
   "cell_type": "markdown",
   "metadata": {},
   "source": [
    "# Data augmentation"
   ]
  },
  {
   "cell_type": "code",
   "execution_count": 4,
   "metadata": {},
   "outputs": [],
   "source": [
    "IN_PATH = Path('./data/parodi_out/preprocessed/sigcomp2009')\n",
    "OUT_PATH = Path('./data/parodi_out/preprocessed/augmented')\n",
    "get_fns = ds_sigcomp2009.get_authentic_signatures\n",
    "rename_base = lambda x : x.name\n",
    "\n",
    "fns = L(get_fns(IN_PATH))\n",
    "nf_func = hang_path(IN_PATH,OUT_PATH,rename_base)\n",
    "def augment_fmap(fn):\n",
    "    new_parent = nf_func(fn).parent\n",
    "    new_parent.mkdir(parents=True, exist_ok=True)\n",
    "    augmented_imgs = data_augmentation(np.array(ds_sigcomp2009.get_x(fn)), 10)\n",
    "    res = []\n",
    "    for i, nimg in enumerate(augmented_imgs):\n",
    "        new_filename = str(fn.name)[:-7] + str(i) + '_6g.PNG'\n",
    "        new_path = new_parent/Path(new_filename) \n",
    "        nimg.save(new_path)\n",
    "        res.append(new_path)\n",
    "    return res\n",
    "aug_fns = parallel(augment_fmap,fns)\n"
   ]
  },
  {
   "cell_type": "markdown",
   "metadata": {},
   "source": [
    "# Extracción de features con grilla circula"
   ]
  },
  {
   "cell_type": "code",
   "execution_count": 41,
   "metadata": {},
   "outputs": [
    {
     "name": "stdout",
     "output_type": "stream",
     "text": [
      "8\n",
      "16\n",
      "32\n",
      "64\n",
      "128\n",
      "CPU times: user 40.5 s, sys: 5.03 s, total: 45.5 s\n",
      "Wall time: 2h 46min 21s\n"
     ]
    }
   ],
   "source": [
    "%%time\n",
    "IN_PATH = Path('./data/parodi_out/preprocessed/augmented-sigcomp2009')\n",
    "ds_name = IN_PATH.name\n",
    "\n",
    "for NDIV in [8,16,32,64,128]:\n",
    "    print(NDIV)\n",
    "    get_fns = get_image_files\n",
    "    fns = L(get_fns(IN_PATH))\n",
    "    def extract_fmap(fn):\n",
    "        g = FastGrid(fn, lambda f : PILImageBW.create(f), N_divisions=NDIV)\n",
    "        return g.features()\n",
    "\n",
    "    OUT_PATH = Path('./data/parodi_out/features')/Path(str(NDIV))\n",
    "    OUT_PATH.mkdir(parents=True, exist_ok=True)\n",
    "\n",
    "    extracted = parallel(extract_fmap,fns)\n",
    "    with open(OUT_PATH/Path(ds_name+'.npy'), 'wb') as f:\n",
    "        np.save(f,np.array(extracted))\n",
    "    with open(OUT_PATH/Path(ds_name+'.txt'), 'w') as f:\n",
    "        f.write('\\n'.join(fns.map(str)))"
   ]
  },
  {
   "cell_type": "code",
   "execution_count": 4,
   "metadata": {},
   "outputs": [
    {
     "name": "stdout",
     "output_type": "stream",
     "text": [
      "8\n",
      "augmented-sigcomp2009\n",
      "10000 (10000, 3, 8)\n",
      "sigcomp2009\n",
      "1000 (1000, 3, 8)\n",
      "cedar\n",
      "1320 (1320, 3, 8)\n",
      "16\n",
      "augmented-sigcomp2009\n",
      "10000 (10000, 3, 16)\n",
      "sigcomp2009\n",
      "1000 (1000, 3, 16)\n",
      "cedar\n",
      "1320 (1320, 3, 16)\n",
      "32\n",
      "augmented-sigcomp2009\n",
      "10000 (10000, 3, 32)\n",
      "sigcomp2009\n",
      "1000 (1000, 3, 32)\n",
      "cedar\n",
      "1320 (1320, 3, 32)\n",
      "64\n",
      "augmented-sigcomp2009\n",
      "10000 (10000, 3, 64)\n",
      "sigcomp2009\n",
      "1000 (1000, 3, 64)\n",
      "cedar\n",
      "1320 (1320, 3, 64)\n",
      "128\n",
      "augmented-sigcomp2009\n",
      "10000 (10000, 3, 128)\n",
      "sigcomp2009\n",
      "1000 (1000, 3, 128)\n",
      "cedar\n",
      "1320 (1320, 3, 128)\n"
     ]
    }
   ],
   "source": [
    "for ndiv in [8,16,32,64,128]:\n",
    "    print(ndiv)\n",
    "    for ds_name in ['augmented-sigcomp2009', 'sigcomp2009', 'cedar']:\n",
    "        print(ds_name)\n",
    "        fns,x=load_features(ds_name,ndiv)\n",
    "        print(len(fns),x.shape)"
   ]
  }
 ],
 "metadata": {
  "kernelspec": {
   "display_name": "ml",
   "language": "python",
   "name": "ml"
  },
  "language_info": {
   "codemirror_mode": {
    "name": "ipython",
    "version": 3
   },
   "file_extension": ".py",
   "mimetype": "text/x-python",
   "name": "python",
   "nbconvert_exporter": "python",
   "pygments_lexer": "ipython3",
   "version": "3.12.3"
  }
 },
 "nbformat": 4,
 "nbformat_minor": 4
}
