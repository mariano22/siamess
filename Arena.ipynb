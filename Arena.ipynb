{
 "cells": [
  {
   "cell_type": "code",
   "execution_count": 1,
   "id": "0045c67c",
   "metadata": {},
   "outputs": [
    {
     "name": "stdout",
     "output_type": "stream",
     "text": [
      "3.8.2 (default, Mar 26 2020, 15:53:00) \n",
      "[GCC 7.3.0]\n"
     ]
    }
   ],
   "source": [
    "%matplotlib inline\n",
    "%reload_ext autoreload\n",
    "%autoreload 2\n",
    "%config InlineBackend.figure_format='retina'\n",
    "import sys; print(sys.version)"
   ]
  },
  {
   "cell_type": "code",
   "execution_count": 2,
   "id": "62ddb28b",
   "metadata": {},
   "outputs": [],
   "source": [
    "from import_all import *"
   ]
  },
  {
   "cell_type": "code",
   "execution_count": 3,
   "id": "e69fc8ad",
   "metadata": {},
   "outputs": [
    {
     "name": "stdout",
     "output_type": "stream",
     "text": [
      "N train files: 731 | N test files 269 | test/ratio: 0.269\n",
      "N train classes: 61 | N test classes: 30 | test/ratio: 0.32967032967032966\n",
      "N pairs test: 2141\n"
     ]
    }
   ],
   "source": [
    "def save_experiment_dataset(pkl_fn,dev,test):\n",
    "    dev_len, test_len = len(dev[0]),len(test[0])\n",
    "    dev_cls_len, test_cls_len = len(set(dev[1])), len(set(test[1]))\n",
    "    print('N train files: {} | N test files {} | test/ratio: {}'.format(dev_len, test_len, test_len/(dev_len+test_len)))\n",
    "    print('N train classes: {} | N test classes: {} | test/ratio: {}'.format(dev_cls_len, test_cls_len, test_cls_len/(dev_cls_len+test_cls_len)))\n",
    "    test_ds = PairDS(test[1],5)\n",
    "    print('N pairs test: {}'.format(len(test_ds.pairs)))\n",
    "    save_pickle(pkl_fn,(dev,test,test_ds))\n",
    "    return dev,test,test_ds\n",
    "\n",
    "class Experiment:\n",
    "    def __init__(self, name, *args):\n",
    "        dev,test,test_ds = save_experiment_dataset(name,*get_elements(*args))\n",
    "        store_attr('dev,test,test_ds', self)\n",
    "\n",
    "class Solution:\n",
    "    def __init__(self, fit, predict): store_attr('fit,predict', self)\n",
    "        \n",
    "def test_solution(e,s):\n",
    "    x1,x2,y = zip(*e.test_ds.pairs)\n",
    "    x = L(zip(e.test[0][x1], e.test[0][x2]))\n",
    "    pred=s.predict(x)\n",
    "    sts = calc_stats(pred,y)\n",
    "    print_stats(sts)\n",
    "    return sts\n",
    "\n",
    "e1 = Experiment('./experiment_1.pkl',\n",
    "                './data/sigcomp2009', \n",
    "                ds_sigcomp2009.get_authentic_signatures, \n",
    "                ds_sigcomp2009.get_y,\n",
    "                lambda fn : 'NISDCC' in fn.name or int(ds_sigcomp2009.get_y(fn)[-3:])<=20)"
   ]
  },
  {
   "cell_type": "code",
   "execution_count": 18,
   "id": "ab5f76ff",
   "metadata": {},
   "outputs": [
    {
     "name": "stdout",
     "output_type": "stream",
     "text": [
      "Accuracy: 0.41802895069122314\n",
      "Error rate: 0.5819710493087769\n",
      "False Aceptation Ratio (errores no detectados): 0.0\n",
      "False Rejection Ratio (falsas alarmas): 0.5819710493087769\n",
      "Precision: 1.0\n",
      "Recall (1-FAR): 0.41802895069122314\n"
     ]
    },
    {
     "data": {
      "text/plain": [
       "{'acc': 0.41802895069122314,\n",
       " 'err': 0.5819710493087769,\n",
       " 'frr': 0.0,\n",
       " 'far': 0.5819710493087769,\n",
       " 'precision': 1.0}"
      ]
     },
     "execution_count": 18,
     "metadata": {},
     "output_type": "execute_result"
    }
   ],
   "source": [
    "def predict(x): return torch.full((len(x),),True)\n",
    "\n",
    "\n",
    "\n",
    "test_solution(e1,predict)"
   ]
  },
  {
   "cell_type": "code",
   "execution_count": 8,
   "id": "9cb05449",
   "metadata": {},
   "outputs": [
    {
     "data": {
      "text/plain": [
       "269"
      ]
     },
     "execution_count": 8,
     "metadata": {},
     "output_type": "execute_result"
    }
   ],
   "source": []
  },
  {
   "cell_type": "code",
   "execution_count": null,
   "id": "26ac250f",
   "metadata": {},
   "outputs": [],
   "source": []
  }
 ],
 "metadata": {
  "kernelspec": {
   "display_name": "ml",
   "language": "python",
   "name": "ml"
  },
  "language_info": {
   "codemirror_mode": {
    "name": "ipython",
    "version": 3
   },
   "file_extension": ".py",
   "mimetype": "text/x-python",
   "name": "python",
   "nbconvert_exporter": "python",
   "pygments_lexer": "ipython3",
   "version": "3.8.2"
  }
 },
 "nbformat": 4,
 "nbformat_minor": 5
}
